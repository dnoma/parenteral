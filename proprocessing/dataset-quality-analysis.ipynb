{
 "cells": [
  {
   "cell_type": "markdown",
   "metadata": {},
   "source": [
    "# Parenteral Dataset Quality Analysis\n",
    "\n",
    "This notebook analyzes the quality and characteristics of the parenteral medication image dataset.\n",
    "\n",
    "**Objectives:**\n",
    "1. Generate statistical analysis of image properties\n",
    "2. Identify missing or inconsistent data\n",
    "3. Create visualizations of dataset distribution\n",
    "4. Document data quality findings"
   ]
  },
  {
   "cell_type": "code",
   "execution_count": null,
   "metadata": {},
   "source": [
    "import pandas as pd\n",
    "import numpy as np\n",
    "import matplotlib.pyplot as plt\n",
    "import seaborn as sns\n",
    "from datetime import datetime\n",
    "\n",
    "# Set style for visualizations\n",
    "plt.style.use('seaborn')\n",
    "sns.set_palette('deep')\n",
    "plt.rcParams['figure.figsize'] = [12, 6]"
   ]
  },
  {
   "cell_type": "markdown",
   "metadata": {},
   "source": [
    "## 1. Data Loading and Initial Inspection"
   ]
  },
  {
   "cell_type": "code",
   "execution_count": null,
   "metadata": {},
   "source": [
    "# Load the dataset\n",
    "df = pd.read_csv('parenteral_metadata.csv')\n",
    "\n",
    "print(f\"Dataset shape: {df.shape}\")\n",
    "print(\"\\nColumn info:\")\n",
    "df.info()"
   ]
  },
  {
   "cell_type": "markdown",
   "metadata": {},
   "source": [
    "## 2. Image Properties Analysis"
   ]
  },
  {
   "cell_type": "code",
   "execution_count": null,
   "metadata": {},
   "source": [
    "# Image dimensions analysis\n",
    "def analyze_image_dimensions(df):\n",
    "    dim_stats = pd.DataFrame({\n",
    "        'Width': df['image_width'].describe(),\n",
    "        'Height': df['image_height'].describe()\n",
    "    })\n",
    "    \n",
    "    # Calculate aspect ratios\n",
    "    df['aspect_ratio'] = df['image_width'] / df['image_height']\n",
    "    \n",
    "    # Plot dimension distributions\n",
    "    fig, (ax1, ax2, ax3) = plt.subplots(1, 3, figsize=(18, 5))\n",
    "    \n",
    "    sns.histplot(data=df, x='image_width', bins=30, ax=ax1)\n",
    "    ax1.set_title('Width Distribution')\n",
    "    \n",
    "    sns.histplot(data=df, x='image_height', bins=30, ax=ax2)\n",
    "    ax2.set_title('Height Distribution')\n",
    "    \n",
    "    sns.histplot(data=df, x='aspect_ratio', bins=30, ax=ax3)\n",
    "    ax3.set_title('Aspect Ratio Distribution')\n",
    "    \n",
    "    plt.tight_layout()\n",
    "    \n",
    "    return dim_stats\n",
    "\n",
    "dim_stats = analyze_image_dimensions(df)\n",
    "print(\"Dimension Statistics:\")\n",
    "print(dim_stats)"
   ]
  },
  {
   "cell_type": "code",
   "execution_count": null,
   "metadata": {},
   "source": [
    "# Image format and file size analysis\n",
    "def analyze_image_formats(df):\n",
    "    # Format distribution\n",
    "    format_dist = df['image_format'].value_counts()\n",
    "    \n",
    "    # File size statistics by format\n",
    "    size_by_format = df.groupby('image_format')['file_size_kb'].describe()\n",
    "    \n",
    "    # Visualize format distribution\n",
    "    fig, (ax1, ax2) = plt.subplots(1, 2, figsize=(15, 5))\n",
    "    \n",
    "    format_dist.plot(kind='bar', ax=ax1)\n",
    "    ax1.set_title('Image Format Distribution')\n",
    "    ax1.set_ylabel('Count')\n",
    "    \n",
    "    sns.boxplot(data=df, x='image_format', y='file_size_kb', ax=ax2)\n",
    "    ax2.set_title('File Size Distribution by Format')\n",
    "    ax2.set_ylabel('File Size (KB)')\n",
    "    \n",
    "    plt.tight_layout()\n",
    "    \n",
    "    return format_dist, size_by_format\n",
    "\n",
    "format_dist, size_by_format = analyze_image_formats(df)\n",
    "print(\"Format Distribution:\")\n",
    "print(format_dist)\n",
    "print(\"\\nFile Size Statistics by Format:\")\n",
    "print(size_by_format)"
   ]
  },
  {
   "cell_type": "markdown",
   "metadata": {},
   "source": [
    "## 3. Missing and Inconsistent Data Analysis"
   ]
  },
  {
   "cell_type": "code",
   "execution_count": null,
   "metadata": {},
   "source": [
    "def analyze_data_quality(df):\n",
    "    # Missing values analysis\n",
    "    missing_vals = df.isnull().sum()\n",
    "    missing_percentages = (missing_vals / len(df) * 100).round(2)\n",
    "    \n",
    "    # Identify duplicate files\n",
    "    duplicates = df[df.duplicated(subset=['file_name'], keep=False)]\n",
    "    \n",
    "    # Check for inconsistent dates\n",
    "    df['date_added'] = pd.to_datetime(df['date_added'])\n",
    "    df['last_modified'] = pd.to_datetime(df['last_modified'])\n",
    "    date_issues = df[df['last_modified'] > df['date_added']]\n",
    "    \n",
    "    # Check for unusual dimensions or file sizes\n",
    "    size_outliers = df[df['file_size_kb'] > df['file_size_kb'].quantile(0.99)]\n",
    "    dimension_outliers = df[\n",
    "        (df['image_width'] > df['image_width'].quantile(0.99)) |\n",
    "        (df['image_height'] > df['image_height'].quantile(0.99))\n",
    "    ]\n",
    "    \n",
    "    return {\n",
    "        'missing_vals': pd.DataFrame({'Count': missing_vals, 'Percentage': missing_percentages}),\n",
    "        'duplicate_count': len(duplicates),\n",
    "        'date_issues_count': len(date_issues),\n",
    "        'size_outliers': len(size_outliers),\n",
    "        'dimension_outliers': len(dimension_outliers)\n",
    "    }\n",
    "\n",
    "quality_metrics = analyze_data_quality(df)\n",
    "print(\"Missing Values Analysis:\")\n",
    "print(quality_metrics['missing_vals'])\n",
    "print(f\"\\nNumber of duplicate files: {quality_metrics['duplicate_count']}\")\n",
    "print(f\"Number of date inconsistencies: {quality_metrics['date_issues_count']}\")\n",
    "print(f\"Number of file size outliers: {quality_metrics['size_outliers']}\")\n",
    "print(f\"Number of dimension outliers: {quality_metrics['dimension_outliers']}\")"
   ]
  },
  {
   "cell_type": "markdown",
   "metadata": {},
   "source": [
    "## 4. Dataset Distribution Analysis"
   ]
  },
  {
   "cell_type": "code",
   "execution_count": null,
   "metadata": {},
   "source": [
    "def analyze_dataset_distribution(df):\n",
    "    # Category distribution\n",
    "    category_dist = df['category'].value_counts()\n",
    "    \n",
    "    # Concentration distribution\n",
    "    concentration_dist = df['concentration'].value_counts()\n",
    "    \n    # Visualize distributions\n",
    "    fig, (ax1, ax2) = plt.subplots(2, 1, figsize=(15, 12))\n",
    "    \n",
    "    # Plot top 20 categories\n",
    "    category_dist.head(20).plot(kind='barh', ax=ax1)\n",
    "    ax1.set_title('Top 20 Categories Distribution')\n",
    "    ax1.set_xlabel('Count')\n",
    "    \n",
    "    # Plot top 20 concentrations\n",
    "    concentration_dist.head(20).plot(kind='barh', ax=ax2)\n",
    "    ax2.set_title('Top 20 Concentrations Distribution')\n",
    "    ax2.set_xlabel('Count')\n",
    "    \n",
    "    plt.tight_layout()\n",
    "    \n",
    "    return category_dist, concentration_dist\n",
    "\n",
    "category_dist, concentration_dist = analyze_dataset_distribution(df)\n",
    "print(\"Category Distribution Summary:\")\n",
    "print(f\"Total number of categories: {len(category_dist)}\")\n",
    "print(\"\\nTop 10 categories:\")\n",
    "print(category_dist.head(10))"
   ]
  },
  {
   "cell_type": "markdown",
   "metadata": {},
   "source": [
    "## 5. Data Quality Summary Report"
   ]
  },
  {
   "cell_type": "code",
   "execution_count": null,
   "metadata": {},
   "source": [
    "def generate_quality_report(df, quality_metrics):\n",
    "    report = f\"\"\"\n",
    "    # Dataset Quality Analysis Report\n",
    "    \n",
    "    ## Dataset Overview\n",
    "    - Total number of images: {len(df)}\n",
    "    - Number of categories: {len(df['category'].unique())}\n",
    "    - Date range: {df['date_added'].min()} to {df['date_added'].max()}\n",
    "    \n",
    "    ## Image Properties\n",
    "    - Image formats: {', '.join(df['image_format'].unique())}\n",
    "    - Average dimensions: {df['image_width'].mean():.0f}x{df['image_height'].mean():.0f} pixels\n",
    "    - Average file size: {df['file_size_kb'].mean():.2f} KB\n",
    "    \n",
    "    ## Data Quality Issues\n",
    "    - Missing values: {quality_metrics['missing_vals']['Count'].sum()} total across all columns\n",
    "    - Duplicate files: {quality_metrics['duplicate_count']}\n",
    "    - Date inconsistencies: {quality_metrics['date_issues_count']}\n",
    "    - Size outliers: {quality_metrics['size_outliers']}\n",
    "    - Dimension outliers: {quality_metrics['dimension_outliers']}\n",
    "    \n",
    "    ## Recommendations\n",
    "    1. {'Address missing values' if quality_metrics['missing_vals']['Count'].sum() > 0 else 'No major missing value issues'}\n",
    "    2. {'Review and resolve duplicate files' if quality_metrics['duplicate_count'] > 0 else 'No duplicate files found'}\n",
    "    3. {'Investigate date inconsistencies' if quality_metrics['date_issues_count'] > 0 else 'No date inconsistencies found'}\n",
    "    4. {'Review outlier images for quality issues' if quality_metrics['size_outliers'] > 0 else 'No significant outliers found'}\n",
    "    \"\"\"\n",
    "    \n",
    "    return report\n",
    "\n",
    "quality_report = generate_quality_report(df, quality_metrics)\n",
    "print(quality_report)"
   ]
  }
 ],
 "metadata": {
  "kernelspec": {
   "display_name": "Python 3",
   "language": "python",
   "name": "python3"
  },
  "language_info": {
   "codemirror_mode": {
    "name": "ipython",
    "version": 3
   },
   "file_extension": ".py",
   "mimetype": "text/x-python",
   "name": "python",
   "nbconvert_exporter": "python",
   "pygments_lexer": "ipython3",
   "version": "3.8.0"
  }
 },
 "nbformat": 4,
 "nbformat_minor": 4
}