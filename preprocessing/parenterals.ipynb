{
 "cells": [
  {
   "cell_type": "code",
   "execution_count": 2,
   "metadata": {},
   "outputs": [],
   "source": [
    "import pandas as pd\n",
    "import numpy as np\n",
    "from pathlib import Path\n",
    "import os\n",
    "from PIL import Image\n",
    "import matplotlib.pyplot as plt\n",
    "import seaborn as sns\n",
    "from sklearn.feature_extraction.text import TfidfVectorizer\n",
    "from sklearn.metrics.pairwise import cosine_similarity\n",
    "\n",
    "class ParenteralAnalyzer:\n",
    "    def __init__(self, image_dir):\n",
    "        self.image_dir = Path(image_dir)\n",
    "        self.metadata = None\n",
    "        self.image_data = {}\n",
    "        \n",
    "    def load_metadata(self, metadata_path):\n",
    "        \"\"\"Load and process metadata CSV file\"\"\"\n",
    "        self.metadata = pd.read_csv(metadata_path)\n",
    "        print(\"Metadata Summary:\")\n",
    "        print(f\"Total medications: {len(self.metadata)}\")\n",
    "        print(\"\\nColumns:\", self.metadata.columns.tolist())\n",
    "        return self.metadata.head()\n",
    "        \n",
    "    def analyze_image_properties(self):\n",
    "        \"\"\"Analyze basic properties of images in the directory\"\"\"\n",
    "        image_properties = []\n",
    "        \n",
    "        for img_path in self.image_dir.glob(\"*.[jJ][pP][gG]\"):\n",
    "            try:\n",
    "                with Image.open(img_path) as img:\n",
    "                    properties = {\n",
    "                        'filename': img_path.name,\n",
    "                        'size': img.size,\n",
    "                        'mode': img.mode,\n",
    "                        'format': img.format,\n",
    "                        'file_size': os.path.getsize(img_path) / 1024  # KB\n",
    "                    }\n",
    "                    image_properties.append(properties)\n",
    "            except Exception as e:\n",
    "                print(f\"Error processing {img_path}: {e}\")\n",
    "                \n",
    "        return pd.DataFrame(image_properties)\n",
    "    \n",
    "    def find_similar_names(self, threshold=0.7):\n",
    "        \"\"\"Find medications with similar names using TF-IDF and cosine similarity\"\"\"\n",
    "        if self.metadata is None or 'medication_name' not in self.metadata.columns:\n",
    "            raise ValueError(\"Metadata not loaded or missing medication_name column\")\n",
    "            \n",
    "        vectorizer = TfidfVectorizer(analyzer='char', ngram_range=(2, 3))\n",
    "        tfidf_matrix = vectorizer.fit_transform(self.metadata['medication_name'])\n",
    "        \n",
    "        similarity_matrix = cosine_similarity(tfidf_matrix)\n",
    "        similar_pairs = []\n",
    "        \n",
    "        for i in range(len(similarity_matrix)):\n",
    "            for j in range(i + 1, len(similarity_matrix)):\n",
    "                if similarity_matrix[i, j] > threshold:\n",
    "                    similar_pairs.append({\n",
    "                        'med1': self.metadata['medication_name'].iloc[i],\n",
    "                        'med2': self.metadata['medication_name'].iloc[j],\n",
    "                        'similarity': similarity_matrix[i, j]\n",
    "                    })\n",
    "                    \n",
    "        return pd.DataFrame(similar_pairs).sort_values('similarity', ascending=False)\n",
    "    \n",
    "    def visualize_metadata_distribution(self, column):\n",
    "        \"\"\"Visualize the distribution of a metadata column\"\"\"\n",
    "        if self.metadata is None:\n",
    "            raise ValueError(\"Metadata not loaded\")\n",
    "            \n",
    "        plt.figure(figsize=(12, 6))\n",
    "        if self.metadata[column].dtype in ['int64', 'float64']:\n",
    "            sns.histplot(data=self.metadata, x=column)\n",
    "        else:\n",
    "            value_counts = self.metadata[column].value_counts()\n",
    "            sns.barplot(x=value_counts.index, y=value_counts.values)\n",
    "            plt.xticks(rotation=45, ha='right')\n",
    "        \n",
    "        plt.title(f'Distribution of {column}')\n",
    "        plt.tight_layout()\n",
    "        plt.show()                                                                                                             "
   ]
  },
  {
   "cell_type": "code",
   "execution_count": 3,
   "metadata": {},
   "outputs": [
    {
     "ename": "ValueError",
     "evalue": "Metadata not loaded or missing medication_name column",
     "output_type": "error",
     "traceback": [
      "\u001b[0;31m---------------------------------------------------------------------------\u001b[0m",
      "\u001b[0;31mValueError\u001b[0m                                Traceback (most recent call last)",
      "Cell \u001b[0;32mIn[3], line 5\u001b[0m\n\u001b[1;32m      3\u001b[0m \u001b[38;5;66;03m# metadata = analyzer.load_metadata(\"path/to/metadata.csv\")\u001b[39;00m\n\u001b[1;32m      4\u001b[0m image_properties \u001b[38;5;241m=\u001b[39m analyzer\u001b[38;5;241m.\u001b[39manalyze_image_properties()\n\u001b[0;32m----> 5\u001b[0m similar_meds \u001b[38;5;241m=\u001b[39m \u001b[43manalyzer\u001b[49m\u001b[38;5;241;43m.\u001b[39;49m\u001b[43mfind_similar_names\u001b[49m\u001b[43m(\u001b[49m\u001b[43mthreshold\u001b[49m\u001b[38;5;241;43m=\u001b[39;49m\u001b[38;5;241;43m0.7\u001b[39;49m\u001b[43m)\u001b[49m\n\u001b[1;32m      6\u001b[0m analyzer\u001b[38;5;241m.\u001b[39mvisualize_metadata_distribution(\u001b[38;5;124m\"\u001b[39m\u001b[38;5;124mconcentration\u001b[39m\u001b[38;5;124m\"\u001b[39m)  \n",
      "Cell \u001b[0;32mIn[2], line 48\u001b[0m, in \u001b[0;36mParenteralAnalyzer.find_similar_names\u001b[0;34m(self, threshold)\u001b[0m\n\u001b[1;32m     46\u001b[0m \u001b[38;5;250m\u001b[39m\u001b[38;5;124;03m\"\"\"Find medications with similar names using TF-IDF and cosine similarity\"\"\"\u001b[39;00m\n\u001b[1;32m     47\u001b[0m \u001b[38;5;28;01mif\u001b[39;00m \u001b[38;5;28mself\u001b[39m\u001b[38;5;241m.\u001b[39mmetadata \u001b[38;5;129;01mis\u001b[39;00m \u001b[38;5;28;01mNone\u001b[39;00m \u001b[38;5;129;01mor\u001b[39;00m \u001b[38;5;124m'\u001b[39m\u001b[38;5;124mmedication_name\u001b[39m\u001b[38;5;124m'\u001b[39m \u001b[38;5;129;01mnot\u001b[39;00m \u001b[38;5;129;01min\u001b[39;00m \u001b[38;5;28mself\u001b[39m\u001b[38;5;241m.\u001b[39mmetadata\u001b[38;5;241m.\u001b[39mcolumns:\n\u001b[0;32m---> 48\u001b[0m     \u001b[38;5;28;01mraise\u001b[39;00m \u001b[38;5;167;01mValueError\u001b[39;00m(\u001b[38;5;124m\"\u001b[39m\u001b[38;5;124mMetadata not loaded or missing medication_name column\u001b[39m\u001b[38;5;124m\"\u001b[39m)\n\u001b[1;32m     50\u001b[0m vectorizer \u001b[38;5;241m=\u001b[39m TfidfVectorizer(analyzer\u001b[38;5;241m=\u001b[39m\u001b[38;5;124m'\u001b[39m\u001b[38;5;124mchar\u001b[39m\u001b[38;5;124m'\u001b[39m, ngram_range\u001b[38;5;241m=\u001b[39m(\u001b[38;5;241m2\u001b[39m, \u001b[38;5;241m3\u001b[39m))\n\u001b[1;32m     51\u001b[0m tfidf_matrix \u001b[38;5;241m=\u001b[39m vectorizer\u001b[38;5;241m.\u001b[39mfit_transform(\u001b[38;5;28mself\u001b[39m\u001b[38;5;241m.\u001b[39mmetadata[\u001b[38;5;124m'\u001b[39m\u001b[38;5;124mmedication_name\u001b[39m\u001b[38;5;124m'\u001b[39m])\n",
      "\u001b[0;31mValueError\u001b[0m: Metadata not loaded or missing medication_name column"
     ]
    }
   ],
   "source": [
    "analyzer = ParenteralAnalyzer(\"./Parenterals\")\n",
    "# \n",
    "# metadata file path\n",
    "# metadata = analyzer.load_metadata(\"path/to/metadata.csv\")\n",
    "image_properties = analyzer.analyze_image_properties()\n",
    "similar_meds = analyzer.find_similar_names(threshold=0.7)"
   ]
  },
  {
   "cell_type": "code",
   "execution_count": null,
   "metadata": {},
   "outputs": [],
   "source": []
  }
 ],
 "metadata": {
  "kernelspec": {
   "display_name": ".venv",
   "language": "python",
   "name": "python3"
  },
  "language_info": {
   "codemirror_mode": {
    "name": "ipython",
    "version": 3
   },
   "file_extension": ".py",
   "mimetype": "text/x-python",
   "name": "python",
   "nbconvert_exporter": "python",
   "pygments_lexer": "ipython3",
   "version": "3.12.6"
  }
 },
 "nbformat": 4,
 "nbformat_minor": 2
}
